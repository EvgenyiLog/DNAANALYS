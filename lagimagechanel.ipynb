{
 "cells": [
  {
   "cell_type": "code",
   "execution_count": 1,
   "metadata": {},
   "outputs": [
    {
     "name": "stdout",
     "output_type": "stream",
     "text": [
      "0\n",
      "0\n",
      "Weigth= 2944\n",
      "Heigth= 2866\n",
      "uint8\n",
      "Weigth= 2944\n",
      "Heigth= 2866\n",
      "uint8\n",
      "0\n",
      "0\n"
     ]
    },
    {
     "ename": "",
     "evalue": "",
     "output_type": "error",
     "traceback": [
      "\u001b[1;31mПри выполнении кода в текущей ячейке или предыдущей ячейке ядро аварийно завершило работу. \n",
      "\u001b[1;31mПроверьте код в ячейках, чтобы определить возможную причину сбоя. \n",
      "\u001b[1;31mЩелкните <a href='https://aka.ms/vscodeJupyterKernelCrash'>здесь</a>, чтобы получить дополнительные сведения. \n",
      "\u001b[1;31mПодробнее см. в <a href='command:jupyter.viewOutput'>журнале Jupyter</a>."
     ]
    }
   ],
   "source": [
    "import cv2\n",
    "import numpy as np\n",
    "\n",
    "def pngreader(filepath):\n",
    "    imA = cv2.imread(filepath,-1)\n",
    "    return imA\n",
    "\n",
    "\n",
    "def lagimage(image1,image2):\n",
    "    image1=cv2.cvtColor(image1,cv2.COLOR_BGR2GRAY)\n",
    "    image2=cv2.cvtColor(image2,cv2.COLOR_BGR2GRAY)\n",
    "    res = cv2.matchTemplate(image1,image2,cv2.TM_CCORR)\n",
    "    min_val, max_val, min_loc, max_loc = cv2.minMaxLoc(res)\n",
    "    lagsx=np.arange(-image1.shape[0]+1,image1.shape[0])\n",
    "    lagsy=np.arange(-image1.shape[1]+1,image1.shape[1])\n",
    "    max_loc=np.asarray(max_loc)\n",
    "    lagxi=lagsx[max_loc[0]+image1.shape[0]-1]\n",
    "    lagyi=lagsy[max_loc[1]+image1.shape[1]-1]\n",
    "    print(lagxi)\n",
    "    print(lagyi)\n",
    "\n",
    "\n",
    "def lagimagegray(image1,image2):\n",
    "    res = cv2.matchTemplate(image1,image2,cv2.TM_CCORR)\n",
    "    min_val, max_val, min_loc, max_loc = cv2.minMaxLoc(res)\n",
    "    lagsx=np.arange(-image1.shape[0]+1,image1.shape[0])\n",
    "    lagsy=np.arange(-image1.shape[1]+1,image1.shape[1])\n",
    "    max_loc=np.asarray(max_loc)\n",
    "    lagxi=lagsx[max_loc[0]+image1.shape[0]-1]\n",
    "    lagyi=lagsy[max_loc[1]+image1.shape[1]-1]\n",
    "    print(lagxi)\n",
    "    print(lagyi)\n",
    "\n",
    "\n",
    "\n",
    "def readimage(path):\n",
    "    'path to file'\n",
    "    'чтение файла возвращает изображение'\n",
    "    \n",
    "    image = cv2.imread(path,0)\n",
    "    #print(image.shape)\n",
    "    h, w = image.shape[:2]\n",
    "    print(f'Weigth= {w}')\n",
    "    print(f'Heigth= {h}')\n",
    "    print(image.dtype)\n",
    "    return image\n",
    "\n",
    "def tiffreader(path):\n",
    "    image=cv2.imread(path,-1)\n",
    "    #print(image.shape)\n",
    "    print(image.dtype)\n",
    "    h, w = image.shape[:2]\n",
    "    print(f'Weigth= {w}')\n",
    "    print(f'Heigth= {h}')\n",
    "    return image\n",
    "\n",
    "def main():\n",
    "    image1=pngreader(\"C:/Users/evgen/Downloads/2712_1.png\")\n",
    "    image2=pngreader(\"C:/Users/evgen/Downloads/2712_1.png\")\n",
    "    lagimage(image1,image2)\n",
    "    image1=readimage(\"C:/Users/evgen/Downloads/s_1_1102_c.jpg\")\n",
    "    image2=readimage(\"C:/Users/evgen/Downloads/s_1_1102_a.jpg\")\n",
    "    lagimagegray(image1,image2)\n",
    "\n",
    "if __name__ == '__main__':\n",
    "    main()\n",
    "\n",
    "\n",
    "\n"
   ]
  }
 ],
 "metadata": {
  "kernelspec": {
   "display_name": "Python 3 (ipykernel)",
   "language": "python",
   "name": "python3"
  },
  "language_info": {
   "codemirror_mode": {
    "name": "ipython",
    "version": 3
   },
   "file_extension": ".py",
   "mimetype": "text/x-python",
   "name": "python",
   "nbconvert_exporter": "python",
   "pygments_lexer": "ipython3",
   "version": "3.9.13"
  }
 },
 "nbformat": 4,
 "nbformat_minor": 2
}
